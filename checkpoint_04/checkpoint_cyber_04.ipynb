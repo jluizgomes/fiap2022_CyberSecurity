{
 "cells": [
  {
   "cell_type": "code",
   "execution_count": null,
   "id": "1cda478a",
   "metadata": {},
   "outputs": [],
   "source": [
    "# Para realizar a prova de vida de Pessoa Física na S4nt4nd3r Investimentos, é\n",
    "# preciso tirar uma selfie com pelo menos um dos objetos abaixo. Seu desafio será\n",
    "# simular esta aplicação. Você deve desenvolver:\n",
    "# 1. Uma página no Streamlit do S4nt4nd3r:\n",
    "# a. Primeiro, a pessoa usuária deve passar pelo captcha gerado;\n",
    "# b. Depois, deve submeter uma selfie.\n",
    "# 2. Ao submeter esta foto, você deve verificar se existe na imagem:\n",
    "# a. Uma pessoa +\n",
    "# b. Um relógio\n",
    "# c. Se sim, retorne “Cadastro autorizado”; se não, retorne “Cadastro não autorizado”.\n",
    "# Você pode ou não printar a identificação ou segmentação dos objetos.\n",
    "# 3. Para que essa solução funcione, você precisará utilizar a API do Google\n",
    "# Images, COCO ou Detectron 2\n",
    "# 4. Submeta o link do repositório neste formulário até 31/08\n",
    "# https://docs.google.com/forms/d/14g5j0MZimY94YDtlZQHzR9-aVHXoZifjanB3YmVSGPk/viewform?edit_requested=true"
   ]
  },
  {
   "cell_type": "code",
   "execution_count": null,
   "id": "576bac87",
   "metadata": {},
   "outputs": [],
   "source": []
  },
  {
   "cell_type": "code",
   "execution_count": null,
   "id": "87dcc269",
   "metadata": {},
   "outputs": [],
   "source": []
  }
 ],
 "metadata": {
  "kernelspec": {
   "display_name": "Python 3 (ipykernel)",
   "language": "python",
   "name": "python3"
  },
  "language_info": {
   "codemirror_mode": {
    "name": "ipython",
    "version": 3
   },
   "file_extension": ".py",
   "mimetype": "text/x-python",
   "name": "python",
   "nbconvert_exporter": "python",
   "pygments_lexer": "ipython3",
   "version": "3.9.7"
  }
 },
 "nbformat": 4,
 "nbformat_minor": 5
}
