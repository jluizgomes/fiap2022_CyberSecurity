{
  "cells": [
    {
      "cell_type": "code",
      "execution_count": null,
      "metadata": {
        "id": "IrGWaByQLn1k"
      },
      "outputs": [],
      "source": [
        "!pip install -q pyngrok\n",
        "!pip install -q streamlit\n",
        "!pip install -q streamlit_ace\n",
        "!pip install captcha\n",
        "!pip install git+https://github.com/cocodataset/panopticapi.git\n",
        "!git clone https://github.com/facebookresearch/detectron2.git\n",
        "!pip install ./detectron2\n",
        "!pip install --upgrade pyyaml"
      ]
    },
    {
      "cell_type": "code",
      "execution_count": 45,
      "metadata": {
        "id": "JBGTxesld1d1"
      },
      "outputs": [],
      "source": [
        "!streamlit run app.py &>/dev/null&"
      ]
    },
    {
      "cell_type": "code",
      "execution_count": null,
      "metadata": {
        "id": "b8E65fDmMB1I"
      },
      "outputs": [],
      "source": [
        "%%writefile app.py\n",
        "\n",
        "import re\n",
        "import json\n",
        "import requests\n",
        "import streamlit as st\n",
        "import cv2\n",
        "from pyngrok import ngrok\n",
        "from captcha.image import ImageCaptcha\n",
        "import matplotlib.pyplot as plt\n",
        "import numpy as np\n",
        "import random\n",
        "from detectron2.config import get_cfg\n",
        "from detectron2 import model_zoo\n",
        "from detectron2.engine import DefaultPredictor\n",
        "from detectron2.data import MetadataCatalog\n",
        "\n",
        "import string\n",
        "characters = string.digits + string.ascii_uppercase\n",
        "\n",
        "generator = ImageCaptcha(320, 100)\n",
        "\n",
        "if 'img' not in st.session_state:\n",
        "  st.session_state[\"random_str\"] = ''.join([random.choice(characters) for i in range(6)])\n",
        "  st.session_state[\"img\"] = generator.generate_image(st.session_state[\"random_str\"])\n",
        "\n",
        "def main():\n",
        "  html_temp = \"\"\"\n",
        "  <div>\n",
        "    <div style =\"width: 34%; margin-right: 1%; height: 100px; display: inline-block; float: left; background-image: url(https://www.santander.com.br/sites/WPC_CMS/imagem/22-08-16_175326_M_logo-santander.svg); background-repeat: no-repeat; background-position-x: center; background-position-y: center; background-size: 90%;\">\n",
        "    </div>\n",
        "    <div style =\"background: #CC0100; width: 65%; height: 100px; display: inline-block; padding: 23px;\">\n",
        "      <h3 style =\"color: white; text-align: center;\">Cadastre-se<h3>\n",
        "    </div>\n",
        "  </div>\n",
        "  \"\"\"\n",
        "\n",
        "  # Função do stramlit que faz o display da webpage\n",
        "  st.markdown(html_temp, unsafe_allow_html = True) \n",
        "\n",
        "  # As linhas abaixo criam as caixas na qual o usuário vai entrar com dados da pessoa que quer o empréstimo para fazer a Predição\n",
        "  col1, col2 = st.columns(2)\n",
        "  with col1:\n",
        "    nome = st.text_input('Nome*:')\n",
        "\n",
        "  with col2:\n",
        "    sobrenome = st.text_input('Sobrenome*:')\n",
        "\n",
        "  col3, col4 = st.columns(2)\n",
        "  with col3:\n",
        "    email = st.text_input('Email*:')\n",
        "\n",
        "  with col4:\n",
        "    telefone = st.text_input('Telefone*:')\n",
        "\n",
        "  cpf = st.text_input('CPF*:')\n",
        "\n",
        "  uploaded_file = st.file_uploader(\"Selecione uma foto sua segurando um objeto, ex: caneta, relógio, etc.*\", help=\"A sua foto segurando um objeto é um método de segurança para as suas operações no nosso aplicativo\")\n",
        "\n",
        "  col5, col6 = st.columns(2)\n",
        "  with col5:\n",
        "    imagem = st.image(st.session_state[\"img\"])\n",
        "\n",
        "  with col6:\n",
        "    textCaptcha = st.text_input(\"Captcha\")\n",
        "\n",
        "  def isEmailValid(email):\n",
        "    regex = re.compile(r'([A-Za-z0-9]+[.-_])*[A-Za-z0-9]+@[A-Za-z0-9-]+(\\.[A-Z|a-z]{2,})+')\n",
        "    return bool(re.fullmatch(regex, email))\n",
        "\n",
        "  def validation(nome, sobrenome, email, telefone, cpf):\n",
        "    flg_cpf_cnpj_recusado = False\n",
        "\n",
        "    if st.button(\"Cadastrar\"): \n",
        "      if nome and sobrenome and isEmailValid(email) and telefone.isnumeric() and cpf.isnumeric():\n",
        "        if uploaded_file:\n",
        "          if validateCaptcha(textCaptcha):\n",
        "            file_bytes = np.asarray(bytearray(uploaded_file.read()), dtype=np.uint8)\n",
        "            image = cv2.imdecode(file_bytes, 1)\n",
        "            if validateImage(image):\n",
        "              st.success(\"Cadastro efetuado com sucesso!\")\n",
        "            else:\n",
        "              st.error(\"Erro ao realizar o cadastro, perfil não autorizado!\")\n",
        "          else:\n",
        "            st.warning('Captcha inválido, tente novamente!')  \n",
        "        else:\n",
        "          st.warning('Selecione uma foto sua segurando um objeto')  \n",
        "      else:\n",
        "        st.warning('Digite os campos corretamente')\n",
        "        return\n",
        "\n",
        "  def validateCaptcha(textCaptcha):\n",
        "    return textCaptcha.upper() == st.session_state[\"random_str\"]\n",
        "\n",
        "  def validateImage(image):\n",
        "    cfg = get_cfg()\n",
        "    cfg.merge_from_file(model_zoo.get_config_file(\"COCO-InstanceSegmentation/mask_rcnn_R_50_FPN_3x.yaml\"))\n",
        "    cfg.MODEL.ROI_HEADS.SCORE_THRESH_TEST = 0.5\n",
        "    cfg.MODEL.WEIGHTS = model_zoo.get_checkpoint_url(\"COCO-InstanceSegmentation/mask_rcnn_R_50_FPN_3x.yaml\")\n",
        "    predictor = DefaultPredictor(cfg)\n",
        "    outputs = predictor(image)\n",
        "    pred_classes = outputs['instances'].pred_classes.cpu().tolist()\n",
        "    class_names = MetadataCatalog.get(\"coco_2017_val_panoptic_separated\").thing_classes\n",
        "    pred_class_names = list(map(lambda x: class_names[x], pred_classes))\n",
        "    print(pred_class_names)\n",
        "    try:\n",
        "      return \"person\" in pred_class_names and \"clock\" in pred_class_names\n",
        "    except Exception:\n",
        "      return False\n",
        "\n",
        "  validation(nome, sobrenome, email, telefone, cpf)\n",
        "\n",
        "if __name__=='__main__': \n",
        "  main()"
      ]
    },
    {
      "cell_type": "code",
      "execution_count": null,
      "metadata": {
        "id": "SnvKDMyCMEAJ"
      },
      "outputs": [],
      "source": [
        "!streamlit run app.py & npx localtunnel --port 8501"
      ]
    }
  ],
  "metadata": {
    "accelerator": "GPU",
    "colab": {
      "collapsed_sections": [],
      "provenance": []
    },
    "gpuClass": "standard",
    "kernelspec": {
      "display_name": "Python 3",
      "name": "python3"
    },
    "language_info": {
      "name": "python"
    }
  },
  "nbformat": 4,
  "nbformat_minor": 0
}
